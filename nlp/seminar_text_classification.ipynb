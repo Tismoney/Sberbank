{
 "cells": [
  {
   "cell_type": "markdown",
   "metadata": {},
   "source": [
    "# Классификация текста"
   ]
  },
  {
   "cell_type": "code",
   "execution_count": 1,
   "metadata": {},
   "outputs": [],
   "source": [
    "import numpy as np\n",
    "import pandas as pd\n",
    "from matplotlib import pyplot as plt\n",
    "%matplotlib inline"
   ]
  },
  {
   "cell_type": "markdown",
   "metadata": {},
   "source": [
    "Мы будем решать задачу предсказания оценки, проставленной вину, базируясь на отзыве. Данные взяты из конкурса https://www.kaggle.com/zynicide/wine-reviews"
   ]
  },
  {
   "cell_type": "code",
   "execution_count": 2,
   "metadata": {},
   "outputs": [
    {
     "data": {
      "text/html": [
       "<div>\n",
       "<style scoped>\n",
       "    .dataframe tbody tr th:only-of-type {\n",
       "        vertical-align: middle;\n",
       "    }\n",
       "\n",
       "    .dataframe tbody tr th {\n",
       "        vertical-align: top;\n",
       "    }\n",
       "\n",
       "    .dataframe thead th {\n",
       "        text-align: right;\n",
       "    }\n",
       "</style>\n",
       "<table border=\"1\" class=\"dataframe\">\n",
       "  <thead>\n",
       "    <tr style=\"text-align: right;\">\n",
       "      <th></th>\n",
       "      <th>country</th>\n",
       "      <th>description</th>\n",
       "      <th>designation</th>\n",
       "      <th>points</th>\n",
       "      <th>price</th>\n",
       "      <th>province</th>\n",
       "      <th>region_1</th>\n",
       "      <th>region_2</th>\n",
       "      <th>taster_name</th>\n",
       "      <th>taster_twitter_handle</th>\n",
       "      <th>title</th>\n",
       "      <th>variety</th>\n",
       "      <th>winery</th>\n",
       "    </tr>\n",
       "  </thead>\n",
       "  <tbody>\n",
       "    <tr>\n",
       "      <th>0</th>\n",
       "      <td>Italy</td>\n",
       "      <td>Aromas include tropical fruit, broom, brimston...</td>\n",
       "      <td>Vulkà Bianco</td>\n",
       "      <td>87</td>\n",
       "      <td></td>\n",
       "      <td>Sicily &amp; Sardinia</td>\n",
       "      <td>Etna</td>\n",
       "      <td></td>\n",
       "      <td>Kerin O’Keefe</td>\n",
       "      <td>@kerinokeefe</td>\n",
       "      <td>Nicosia 2013 Vulkà Bianco  (Etna)</td>\n",
       "      <td>White Blend</td>\n",
       "      <td>Nicosia</td>\n",
       "    </tr>\n",
       "    <tr>\n",
       "      <th>1</th>\n",
       "      <td>Portugal</td>\n",
       "      <td>This is ripe and fruity, a wine that is smooth...</td>\n",
       "      <td>Avidagos</td>\n",
       "      <td>87</td>\n",
       "      <td>15.0</td>\n",
       "      <td>Douro</td>\n",
       "      <td></td>\n",
       "      <td></td>\n",
       "      <td>Roger Voss</td>\n",
       "      <td>@vossroger</td>\n",
       "      <td>Quinta dos Avidagos 2011 Avidagos Red (Douro)</td>\n",
       "      <td>Portuguese Red</td>\n",
       "      <td>Quinta dos Avidagos</td>\n",
       "    </tr>\n",
       "    <tr>\n",
       "      <th>2</th>\n",
       "      <td>US</td>\n",
       "      <td>Tart and snappy, the flavors of lime flesh and...</td>\n",
       "      <td></td>\n",
       "      <td>87</td>\n",
       "      <td>14.0</td>\n",
       "      <td>Oregon</td>\n",
       "      <td>Willamette Valley</td>\n",
       "      <td>Willamette Valley</td>\n",
       "      <td>Paul Gregutt</td>\n",
       "      <td>@paulgwine</td>\n",
       "      <td>Rainstorm 2013 Pinot Gris (Willamette Valley)</td>\n",
       "      <td>Pinot Gris</td>\n",
       "      <td>Rainstorm</td>\n",
       "    </tr>\n",
       "    <tr>\n",
       "      <th>3</th>\n",
       "      <td>US</td>\n",
       "      <td>Pineapple rind, lemon pith and orange blossom ...</td>\n",
       "      <td>Reserve Late Harvest</td>\n",
       "      <td>87</td>\n",
       "      <td>13.0</td>\n",
       "      <td>Michigan</td>\n",
       "      <td>Lake Michigan Shore</td>\n",
       "      <td></td>\n",
       "      <td>Alexander Peartree</td>\n",
       "      <td></td>\n",
       "      <td>St. Julian 2013 Reserve Late Harvest Riesling ...</td>\n",
       "      <td>Riesling</td>\n",
       "      <td>St. Julian</td>\n",
       "    </tr>\n",
       "    <tr>\n",
       "      <th>4</th>\n",
       "      <td>US</td>\n",
       "      <td>Much like the regular bottling from 2012, this...</td>\n",
       "      <td>Vintner's Reserve Wild Child Block</td>\n",
       "      <td>87</td>\n",
       "      <td>65.0</td>\n",
       "      <td>Oregon</td>\n",
       "      <td>Willamette Valley</td>\n",
       "      <td>Willamette Valley</td>\n",
       "      <td>Paul Gregutt</td>\n",
       "      <td>@paulgwine</td>\n",
       "      <td>Sweet Cheeks 2012 Vintner's Reserve Wild Child...</td>\n",
       "      <td>Pinot Noir</td>\n",
       "      <td>Sweet Cheeks</td>\n",
       "    </tr>\n",
       "  </tbody>\n",
       "</table>\n",
       "</div>"
      ],
      "text/plain": [
       "    country                                        description  \\\n",
       "0     Italy  Aromas include tropical fruit, broom, brimston...   \n",
       "1  Portugal  This is ripe and fruity, a wine that is smooth...   \n",
       "2        US  Tart and snappy, the flavors of lime flesh and...   \n",
       "3        US  Pineapple rind, lemon pith and orange blossom ...   \n",
       "4        US  Much like the regular bottling from 2012, this...   \n",
       "\n",
       "                          designation  points price           province  \\\n",
       "0                        Vulkà Bianco      87        Sicily & Sardinia   \n",
       "1                            Avidagos      87  15.0              Douro   \n",
       "2                                          87  14.0             Oregon   \n",
       "3                Reserve Late Harvest      87  13.0           Michigan   \n",
       "4  Vintner's Reserve Wild Child Block      87  65.0             Oregon   \n",
       "\n",
       "              region_1           region_2         taster_name  \\\n",
       "0                 Etna                          Kerin O’Keefe   \n",
       "1                                                  Roger Voss   \n",
       "2    Willamette Valley  Willamette Valley        Paul Gregutt   \n",
       "3  Lake Michigan Shore                     Alexander Peartree   \n",
       "4    Willamette Valley  Willamette Valley        Paul Gregutt   \n",
       "\n",
       "  taster_twitter_handle                                              title  \\\n",
       "0          @kerinokeefe                  Nicosia 2013 Vulkà Bianco  (Etna)   \n",
       "1            @vossroger      Quinta dos Avidagos 2011 Avidagos Red (Douro)   \n",
       "2           @paulgwine       Rainstorm 2013 Pinot Gris (Willamette Valley)   \n",
       "3                        St. Julian 2013 Reserve Late Harvest Riesling ...   \n",
       "4           @paulgwine   Sweet Cheeks 2012 Vintner's Reserve Wild Child...   \n",
       "\n",
       "          variety               winery  \n",
       "0     White Blend              Nicosia  \n",
       "1  Portuguese Red  Quinta dos Avidagos  \n",
       "2      Pinot Gris            Rainstorm  \n",
       "3        Riesling           St. Julian  \n",
       "4      Pinot Noir         Sweet Cheeks  "
      ]
     },
     "execution_count": 2,
     "metadata": {},
     "output_type": "execute_result"
    }
   ],
   "source": [
    "data = pd.read_csv('winemag.csv', index_col=0, na_filter=False)\n",
    "data.head()"
   ]
  },
  {
   "cell_type": "code",
   "execution_count": 3,
   "metadata": {},
   "outputs": [
    {
     "data": {
      "text/plain": [
       "<matplotlib.axes._subplots.AxesSubplot at 0x104b2d4e0>"
      ]
     },
     "execution_count": 3,
     "metadata": {},
     "output_type": "execute_result"
    },
    {
     "data": {
      "image/png": "[encoded data removed]",
      "text/plain": [
       "<Figure size 432x288 with 1 Axes>"
      ]
     },
     "metadata": {
      "needs_background": "light"
     },
     "output_type": "display_data"
    }
   ],
   "source": [
    "data['points'].hist(bins=21)"
   ]
  },
  {
   "cell_type": "markdown",
   "metadata": {},
   "source": [
    "Бинаризуем таргет: будем предсказывать, превысит ли оценка 90."
   ]
  },
  {
   "cell_type": "code",
   "execution_count": 4,
   "metadata": {},
   "outputs": [
    {
     "data": {
      "text/html": [
       "<div>\n",
       "<style scoped>\n",
       "    .dataframe tbody tr th:only-of-type {\n",
       "        vertical-align: middle;\n",
       "    }\n",
       "\n",
       "    .dataframe tbody tr th {\n",
       "        vertical-align: top;\n",
       "    }\n",
       "\n",
       "    .dataframe thead th {\n",
       "        text-align: right;\n",
       "    }\n",
       "</style>\n",
       "<table border=\"1\" class=\"dataframe\">\n",
       "  <thead>\n",
       "    <tr style=\"text-align: right;\">\n",
       "      <th></th>\n",
       "      <th>country</th>\n",
       "      <th>description</th>\n",
       "      <th>designation</th>\n",
       "      <th>points</th>\n",
       "      <th>price</th>\n",
       "      <th>province</th>\n",
       "      <th>region_1</th>\n",
       "      <th>region_2</th>\n",
       "      <th>taster_name</th>\n",
       "      <th>taster_twitter_handle</th>\n",
       "      <th>title</th>\n",
       "      <th>variety</th>\n",
       "      <th>winery</th>\n",
       "      <th>&gt;=90</th>\n",
       "    </tr>\n",
       "  </thead>\n",
       "  <tbody>\n",
       "    <tr>\n",
       "      <th>0</th>\n",
       "      <td>Italy</td>\n",
       "      <td>Aromas include tropical fruit, broom, brimston...</td>\n",
       "      <td>Vulkà Bianco</td>\n",
       "      <td>87</td>\n",
       "      <td></td>\n",
       "      <td>Sicily &amp; Sardinia</td>\n",
       "      <td>Etna</td>\n",
       "      <td></td>\n",
       "      <td>Kerin O’Keefe</td>\n",
       "      <td>@kerinokeefe</td>\n",
       "      <td>Nicosia 2013 Vulkà Bianco  (Etna)</td>\n",
       "      <td>White Blend</td>\n",
       "      <td>Nicosia</td>\n",
       "      <td>False</td>\n",
       "    </tr>\n",
       "    <tr>\n",
       "      <th>1</th>\n",
       "      <td>Portugal</td>\n",
       "      <td>This is ripe and fruity, a wine that is smooth...</td>\n",
       "      <td>Avidagos</td>\n",
       "      <td>87</td>\n",
       "      <td>15.0</td>\n",
       "      <td>Douro</td>\n",
       "      <td></td>\n",
       "      <td></td>\n",
       "      <td>Roger Voss</td>\n",
       "      <td>@vossroger</td>\n",
       "      <td>Quinta dos Avidagos 2011 Avidagos Red (Douro)</td>\n",
       "      <td>Portuguese Red</td>\n",
       "      <td>Quinta dos Avidagos</td>\n",
       "      <td>False</td>\n",
       "    </tr>\n",
       "    <tr>\n",
       "      <th>2</th>\n",
       "      <td>US</td>\n",
       "      <td>Tart and snappy, the flavors of lime flesh and...</td>\n",
       "      <td></td>\n",
       "      <td>87</td>\n",
       "      <td>14.0</td>\n",
       "      <td>Oregon</td>\n",
       "      <td>Willamette Valley</td>\n",
       "      <td>Willamette Valley</td>\n",
       "      <td>Paul Gregutt</td>\n",
       "      <td>@paulgwine</td>\n",
       "      <td>Rainstorm 2013 Pinot Gris (Willamette Valley)</td>\n",
       "      <td>Pinot Gris</td>\n",
       "      <td>Rainstorm</td>\n",
       "      <td>False</td>\n",
       "    </tr>\n",
       "    <tr>\n",
       "      <th>3</th>\n",
       "      <td>US</td>\n",
       "      <td>Pineapple rind, lemon pith and orange blossom ...</td>\n",
       "      <td>Reserve Late Harvest</td>\n",
       "      <td>87</td>\n",
       "      <td>13.0</td>\n",
       "      <td>Michigan</td>\n",
       "      <td>Lake Michigan Shore</td>\n",
       "      <td></td>\n",
       "      <td>Alexander Peartree</td>\n",
       "      <td></td>\n",
       "      <td>St. Julian 2013 Reserve Late Harvest Riesling ...</td>\n",
       "      <td>Riesling</td>\n",
       "      <td>St. Julian</td>\n",
       "      <td>False</td>\n",
       "    </tr>\n",
       "    <tr>\n",
       "      <th>4</th>\n",
       "      <td>US</td>\n",
       "      <td>Much like the regular bottling from 2012, this...</td>\n",
       "      <td>Vintner's Reserve Wild Child Block</td>\n",
       "      <td>87</td>\n",
       "      <td>65.0</td>\n",
       "      <td>Oregon</td>\n",
       "      <td>Willamette Valley</td>\n",
       "      <td>Willamette Valley</td>\n",
       "      <td>Paul Gregutt</td>\n",
       "      <td>@paulgwine</td>\n",
       "      <td>Sweet Cheeks 2012 Vintner's Reserve Wild Child...</td>\n",
       "      <td>Pinot Noir</td>\n",
       "      <td>Sweet Cheeks</td>\n",
       "      <td>False</td>\n",
       "    </tr>\n",
       "  </tbody>\n",
       "</table>\n",
       "</div>"
      ],
      "text/plain": [
       "    country                                        description  \\\n",
       "0     Italy  Aromas include tropical fruit, broom, brimston...   \n",
       "1  Portugal  This is ripe and fruity, a wine that is smooth...   \n",
       "2        US  Tart and snappy, the flavors of lime flesh and...   \n",
       "3        US  Pineapple rind, lemon pith and orange blossom ...   \n",
       "4        US  Much like the regular bottling from 2012, this...   \n",
       "\n",
       "                          designation  points price           province  \\\n",
       "0                        Vulkà Bianco      87        Sicily & Sardinia   \n",
       "1                            Avidagos      87  15.0              Douro   \n",
       "2                                          87  14.0             Oregon   \n",
       "3                Reserve Late Harvest      87  13.0           Michigan   \n",
       "4  Vintner's Reserve Wild Child Block      87  65.0             Oregon   \n",
       "\n",
       "              region_1           region_2         taster_name  \\\n",
       "0                 Etna                          Kerin O’Keefe   \n",
       "1                                                  Roger Voss   \n",
       "2    Willamette Valley  Willamette Valley        Paul Gregutt   \n",
       "3  Lake Michigan Shore                     Alexander Peartree   \n",
       "4    Willamette Valley  Willamette Valley        Paul Gregutt   \n",
       "\n",
       "  taster_twitter_handle                                              title  \\\n",
       "0          @kerinokeefe                  Nicosia 2013 Vulkà Bianco  (Etna)   \n",
       "1            @vossroger      Quinta dos Avidagos 2011 Avidagos Red (Douro)   \n",
       "2           @paulgwine       Rainstorm 2013 Pinot Gris (Willamette Valley)   \n",
       "3                        St. Julian 2013 Reserve Late Harvest Riesling ...   \n",
       "4           @paulgwine   Sweet Cheeks 2012 Vintner's Reserve Wild Child...   \n",
       "\n",
       "          variety               winery   >=90  \n",
       "0     White Blend              Nicosia  False  \n",
       "1  Portuguese Red  Quinta dos Avidagos  False  \n",
       "2      Pinot Gris            Rainstorm  False  \n",
       "3        Riesling           St. Julian  False  \n",
       "4      Pinot Noir         Sweet Cheeks  False  "
      ]
     },
     "execution_count": 4,
     "metadata": {},
     "output_type": "execute_result"
    }
   ],
   "source": [
    "data['>=90'] = data['points'] >= 90\n",
    "\n",
    "data.head()"
   ]
  },
  {
   "cell_type": "markdown",
   "metadata": {},
   "source": [
    "Из всего многообразия признаков нас будет интересовать **description** -- признак содержащий описание вина и **points** -- присужденный балл"
   ]
  },
  {
   "cell_type": "markdown",
   "metadata": {},
   "source": [
    "#### Задание 1\n",
    "Выделите из данных X и y"
   ]
  },
  {
   "cell_type": "code",
   "execution_count": 5,
   "metadata": {},
   "outputs": [],
   "source": [
    "X = data['description']\n",
    "y = data['>=90']"
   ]
  },
  {
   "cell_type": "markdown",
   "metadata": {},
   "source": [
    "## Извлечение признаков из текстов\n",
    "\n",
    "Перед тем как работать с текстом, его необходимо токенизировать - разбить на отдельные токены. В качестве токенов могут выступать слова, фразы, предложений и т.п. Токенизировать текст можно  помощью регулярных выражений или готовых токенизаторов. \n",
    "\n",
    "После токенизации нужно привести текст к нормальной форме. Речь идет о [стемминге и/или лемматизации](https://nlp.stanford.edu/IR-book/html/htmledition/stemming-and-lemmatization-1.html) - это схожие процессы, используемые для обработки словоформ.\n",
    "\n",
    "Для работы лемматизации английского текста можно воспользоваться библиотекой nltk:"
   ]
  },
  {
   "cell_type": "code",
   "execution_count": 8,
   "metadata": {},
   "outputs": [
    {
     "name": "stderr",
     "output_type": "stream",
     "text": [
      "[nltk_data] Downloading package punkt to /Users/nikita/nltk_data...\n",
      "[nltk_data]   Unzipping tokenizers/punkt.zip.\n",
      "[nltk_data] Downloading package wordnet to /Users/nikita/nltk_data...\n",
      "[nltk_data]   Unzipping corpora/wordnet.zip.\n"
     ]
    },
    {
     "data": {
      "text/plain": [
       "True"
      ]
     },
     "execution_count": 8,
     "metadata": {},
     "output_type": "execute_result"
    }
   ],
   "source": [
    "import nltk\n",
    "nltk.download('punkt')\n",
    "nltk.download('wordnet')"
   ]
  },
  {
   "cell_type": "markdown",
   "metadata": {},
   "source": [
    "#### Задание 2\n",
    "Токенизируйте тексты. Сейчас Х - это набор из строк-текстов. Разбейте каждый текст на слова (токенизируйте его), каждое из которых написано в нижнем регистре.\n",
    "\n",
    "(Вам могут понадобиться функция word_tokenize из nltk.tokenize, а также методы строк isalpha и lower)"
   ]
  },
  {
   "cell_type": "code",
   "execution_count": 10,
   "metadata": {},
   "outputs": [
    {
     "data": {
      "application/vnd.jupyter.widget-view+json": {
       "model_id": "7f8921f0a0834d889509717883dd15a1",
       "version_major": 2,
       "version_minor": 0
      },
      "text/plain": [
       "HBox(children=(IntProgress(value=0, max=129971), HTML(value='')))"
      ]
     },
     "metadata": {},
     "output_type": "display_data"
    },
    {
     "name": "stdout",
     "output_type": "stream",
     "text": [
      "\n"
     ]
    }
   ],
   "source": [
    "from nltk.tokenize import word_tokenize\n",
    "from tqdm import tqdm_notebook\n",
    "\n",
    "# [for x in tqdm_notebook(X)]\n",
    "\n",
    "tokens = [list(filter(str.isalpha, word_tokenize(sentence.lower()))) for sentence in tqdm_notebook(X) ]"
   ]
  },
  {
   "cell_type": "code",
   "execution_count": 11,
   "metadata": {},
   "outputs": [
    {
     "data": {
      "text/plain": [
       "['Hello', ',', 'it', \"'s\", 'me', 'Vasya1']"
      ]
     },
     "execution_count": 11,
     "metadata": {},
     "output_type": "execute_result"
    }
   ],
   "source": [
    "from nltk.tokenize import word_tokenize\n",
    "\n",
    "word_tokenize('Hello, it\\'s me Vasya1')"
   ]
  },
  {
   "cell_type": "code",
   "execution_count": 12,
   "metadata": {},
   "outputs": [
    {
     "data": {
      "text/plain": [
       "[1, 4, 16]"
      ]
     },
     "execution_count": 12,
     "metadata": {},
     "output_type": "execute_result"
    }
   ],
   "source": [
    "a = [1,2,4]\n",
    "[item ** 2 for item in a]"
   ]
  },
  {
   "cell_type": "code",
   "execution_count": 13,
   "metadata": {},
   "outputs": [
    {
     "data": {
      "text/plain": [
       "'masha'"
      ]
     },
     "execution_count": 13,
     "metadata": {},
     "output_type": "execute_result"
    }
   ],
   "source": [
    "'Masha'.lower()"
   ]
  },
  {
   "cell_type": "code",
   "execution_count": 14,
   "metadata": {},
   "outputs": [
    {
     "data": {
      "text/plain": [
       "(False, True)"
      ]
     },
     "execution_count": 14,
     "metadata": {},
     "output_type": "execute_result"
    }
   ],
   "source": [
    "'Masha123'.isalpha(), 'Vasya'.isalpha()"
   ]
  },
  {
   "cell_type": "code",
   "execution_count": 15,
   "metadata": {},
   "outputs": [
    {
     "data": {
      "text/plain": [
       "['aromas',\n",
       " 'include',\n",
       " 'tropical',\n",
       " 'fruit',\n",
       " 'broom',\n",
       " 'brimstone',\n",
       " 'and',\n",
       " 'dried',\n",
       " 'herb',\n",
       " 'the',\n",
       " 'palate',\n",
       " 'is',\n",
       " 'overly',\n",
       " 'expressive',\n",
       " 'offering',\n",
       " 'unripened',\n",
       " 'apple',\n",
       " 'citrus',\n",
       " 'and',\n",
       " 'dried',\n",
       " 'sage',\n",
       " 'alongside',\n",
       " 'brisk',\n",
       " 'acidity']"
      ]
     },
     "execution_count": 15,
     "metadata": {},
     "output_type": "execute_result"
    }
   ],
   "source": [
    "tokens[0]"
   ]
  },
  {
   "cell_type": "markdown",
   "metadata": {},
   "source": [
    "#### Задание 3\n",
    "Теперь, когда для каждого текста у вас есть набор слов, встречающихся в нем, можно переходить к лемматизации.\n",
    "Лемматизируйте все слова с помощью WordNetLemmatizer и объедините получившиеся слова в одну строку через пробел, запишите результат в X"
   ]
  },
  {
   "cell_type": "code",
   "execution_count": 16,
   "metadata": {},
   "outputs": [],
   "source": [
    "from nltk.stem import WordNetLemmatizer\n",
    "\n",
    "lemmatizer = WordNetLemmatizer()\n",
    "#lemmatizer.lemmatize(<word>)\n",
    "\n",
    "X = [' '.join([lemmatizer.lemmatize(word) for word in sentence]) for sentence in tokens]"
   ]
  },
  {
   "cell_type": "code",
   "execution_count": 17,
   "metadata": {},
   "outputs": [
    {
     "data": {
      "text/plain": [
       "'aroma include tropical fruit broom brimstone and dried herb the palate is overly expressive offering unripened apple citrus and dried sage alongside brisk acidity'"
      ]
     },
     "execution_count": 17,
     "metadata": {},
     "output_type": "execute_result"
    }
   ],
   "source": [
    "X[0]"
   ]
  },
  {
   "cell_type": "code",
   "execution_count": 18,
   "metadata": {},
   "outputs": [
    {
     "data": {
      "text/plain": [
       "['aroma include tropical fruit broom brimstone and dried herb the palate is overly expressive offering unripened apple citrus and dried sage alongside brisk acidity',\n",
       " 'this is ripe and fruity a wine that is smooth while still structured firm tannin are filled out with juicy red berry fruit and freshened with acidity it already drinkable although it will certainly be better from',\n",
       " 'tart and snappy the flavor of lime flesh and rind dominate some green pineapple poke through with crisp acidity underscoring the flavor the wine wa all fermented',\n",
       " 'pineapple rind lemon pith and orange blossom start off the aroma the palate is a bit more opulent with note of guava and mango giving way to a slightly astringent semidry finish',\n",
       " 'much like the regular bottling from this come across a rather rough and tannic with rustic earthy herbal characteristic nonetheless if you think of it a a pleasantly unfussy country wine it a good companion to a hearty winter stew']"
      ]
     },
     "execution_count": 18,
     "metadata": {},
     "output_type": "execute_result"
    }
   ],
   "source": [
    "X[:5]"
   ]
  },
  {
   "cell_type": "code",
   "execution_count": 19,
   "metadata": {},
   "outputs": [],
   "source": [
    "from sklearn.model_selection import train_test_split\n",
    "\n",
    "X_train, X_test, y_train, y_test = train_test_split(X, y, test_size=0.1)"
   ]
  },
  {
   "cell_type": "code",
   "execution_count": 20,
   "metadata": {},
   "outputs": [],
   "source": [
    "y_train = y_train.values\n",
    "y_test = y_test.values"
   ]
  },
  {
   "cell_type": "markdown",
   "metadata": {},
   "source": [
    "### Bag of Words\n",
    "\n",
    "Cоздаем вектор длиной в словарь, для каждого слова считаем количество вхождений в текст и подставляем это число на соответствующую позицию в векторе.\n",
    "\n",
    "Построим модель BOW с помощью [CountVectorizer](http://scikit-learn.org/stable/modules/generated/sklearn.feature_extraction.text.CountVectorizer.html)"
   ]
  },
  {
   "cell_type": "code",
   "execution_count": 21,
   "metadata": {},
   "outputs": [
    {
     "name": "stdout",
     "output_type": "stream",
     "text": [
      "Размер словаря: 26541\n",
      "Top-10 слов: and; the; of; with; this; it; is; wine; flavor; in\n"
     ]
    }
   ],
   "source": [
    "from sklearn.feature_extraction.text import CountVectorizer\n",
    "\n",
    "vectorizer = CountVectorizer()\n",
    "vectorizer.fit(X_train)\n",
    "\n",
    "vocabulary = vectorizer.get_feature_names()\n",
    "print('Размер словаря: %d' % len(vocabulary))\n",
    "\n",
    "description_count = vectorizer.transform(X_train)\n",
    "top_tokens, _ = zip(*sorted(zip(vocabulary, description_count.sum(axis=0).getA1()), \n",
    "                            key=lambda x: x[1], reverse=True)[:10])\n",
    "print('Top-10 слов: %s'%'; '.join(top_tokens))"
   ]
  },
  {
   "cell_type": "markdown",
   "metadata": {},
   "source": [
    "Видно, что большая часть из топ-10 слов является не информативными - стоп-словами. Что бы они не участвовали в представлении, в конструктор CountVectorizer в качестве параметра можно передать список стоп-слов:"
   ]
  },
  {
   "cell_type": "code",
   "execution_count": 22,
   "metadata": {},
   "outputs": [
    {
     "name": "stderr",
     "output_type": "stream",
     "text": [
      "[nltk_data] Downloading package stopwords to\n",
      "[nltk_data]     /Users/nikita/nltk_data...\n",
      "[nltk_data]   Unzipping corpora/stopwords.zip.\n"
     ]
    },
    {
     "data": {
      "text/plain": [
       "True"
      ]
     },
     "execution_count": 22,
     "metadata": {},
     "output_type": "execute_result"
    }
   ],
   "source": [
    "from nltk.corpus import stopwords\n",
    "nltk.download('stopwords')"
   ]
  },
  {
   "cell_type": "code",
   "execution_count": 23,
   "metadata": {},
   "outputs": [
    {
     "data": {
      "text/plain": [
       "True"
      ]
     },
     "execution_count": 23,
     "metadata": {},
     "output_type": "execute_result"
    }
   ],
   "source": [
    "'has' in stopwords.words('english')"
   ]
  },
  {
   "cell_type": "code",
   "execution_count": 24,
   "metadata": {},
   "outputs": [
    {
     "name": "stdout",
     "output_type": "stream",
     "text": [
      "Размер словаря: 26420\n",
      "Top-10 слов: wine; flavor; fruit; aroma; finish; palate; acidity; tannin; cherry; drink\n"
     ]
    }
   ],
   "source": [
    "stop_words = set(stopwords.words('english'))\n",
    "vectorizer = CountVectorizer(stop_words=stop_words)\n",
    "vectorizer.fit(X_train)\n",
    "vocabulary = vectorizer.get_feature_names()\n",
    "print('Размер словаря: %d' % len(vocabulary))\n",
    "\n",
    "description_count = vectorizer.transform(X_train)\n",
    "top_tokens, _ = zip(*sorted(zip(vocabulary, description_count.sum(axis=0).getA1()), \n",
    "                            key=lambda x: x[1], reverse=True)[:10])\n",
    "print('Top-10 слов: %s'%'; '.join(top_tokens))"
   ]
  },
  {
   "cell_type": "code",
   "execution_count": 25,
   "metadata": {},
   "outputs": [
    {
     "data": {
      "text/plain": [
       "('wine',\n",
       " 'flavor',\n",
       " 'fruit',\n",
       " 'aroma',\n",
       " 'finish',\n",
       " 'palate',\n",
       " 'acidity',\n",
       " 'tannin',\n",
       " 'cherry',\n",
       " 'drink',\n",
       " 'ripe',\n",
       " 'black',\n",
       " 'note',\n",
       " 'ha',\n",
       " 'spice',\n",
       " 'red',\n",
       " 'berry',\n",
       " 'rich',\n",
       " 'fresh',\n",
       " 'nose')"
      ]
     },
     "execution_count": 25,
     "metadata": {},
     "output_type": "execute_result"
    }
   ],
   "source": [
    "top_tokens, _ = zip(*sorted(zip(vocabulary, description_count.sum(axis=0).getA1()), \n",
    "                            key=lambda x: x[1], reverse=True)[:20])\n",
    "top_tokens"
   ]
  },
  {
   "cell_type": "markdown",
   "metadata": {},
   "source": [
    "Чтобы сжать векторное представление, можно \"отбросить\" редкие слова:"
   ]
  },
  {
   "cell_type": "code",
   "execution_count": 28,
   "metadata": {},
   "outputs": [
    {
     "name": "stdout",
     "output_type": "stream",
     "text": [
      "Размер словаря: 7320\n"
     ]
    }
   ],
   "source": [
    "vectorizer = CountVectorizer(stop_words=stop_words, min_df=10).fit(X_train)\n",
    "vocabulary = vectorizer.get_feature_names()\n",
    "print('Размер словаря: %d'%len(vocabulary))\n",
    "\n",
    "X_train_bow = vectorizer.transform(X_train)\n",
    "X_test_bow = vectorizer.transform(X_test)"
   ]
  },
  {
   "cell_type": "code",
   "execution_count": 29,
   "metadata": {},
   "outputs": [
    {
     "data": {
      "text/plain": [
       "<116973x7320 sparse matrix of type '<class 'numpy.int64'>'\n",
       "\twith 2687916 stored elements in Compressed Sparse Row format>"
      ]
     },
     "execution_count": 29,
     "metadata": {},
     "output_type": "execute_result"
    }
   ],
   "source": [
    "X_train_bow"
   ]
  },
  {
   "cell_type": "code",
   "execution_count": 30,
   "metadata": {},
   "outputs": [],
   "source": [
    "word_counts = np.array(X_train_bow.sum(axis=0))[0]"
   ]
  },
  {
   "cell_type": "code",
   "execution_count": 34,
   "metadata": {},
   "outputs": [
    {
     "data": {
      "text/plain": [
       "[74427,\n",
       " 61849,\n",
       " 52759,\n",
       " 36914,\n",
       " 34712,\n",
       " 34492,\n",
       " 31466,\n",
       " 29498,\n",
       " 28505,\n",
       " 27510,\n",
       " 24241,\n",
       " 22787,\n",
       " 22741,\n",
       " 22326,\n",
       " 19509,\n",
       " 17115,\n",
       " 15975,\n",
       " 15622,\n",
       " 15270,\n",
       " 15238,\n",
       " 15023,\n",
       " 13976,\n",
       " 13903,\n",
       " 13462,\n",
       " 13414,\n",
       " 13135,\n",
       " 12293,\n",
       " 12202,\n",
       " 12045,\n",
       " 11506,\n",
       " 11228,\n",
       " 11227,\n",
       " 11215,\n",
       " 10242,\n",
       " 10216,\n",
       " 10156,\n",
       " 9928,\n",
       " 9903,\n",
       " 9739,\n",
       " 9726,\n",
       " 9627,\n",
       " 9598,\n",
       " 9583,\n",
       " 9080,\n",
       " 9060,\n",
       " 8975,\n",
       " 8804,\n",
       " 8535,\n",
       " 8531,\n",
       " 8493,\n",
       " 8433,\n",
       " 8300,\n",
       " 8294,\n",
       " 8189,\n",
       " 8006,\n",
       " 7870,\n",
       " 7559,\n",
       " 7470,\n",
       " 7408,\n",
       " 7109,\n",
       " 7071,\n",
       " 6934,\n",
       " 6836,\n",
       " 6737,\n",
       " 6604,\n",
       " 6508,\n",
       " 6477,\n",
       " 6390,\n",
       " 6349,\n",
       " 6206,\n",
       " 5915,\n",
       " 5877,\n",
       " 5695,\n",
       " 5688,\n",
       " 5621,\n",
       " 5561,\n",
       " 5547,\n",
       " 5543,\n",
       " 5528,\n",
       " 5515,\n",
       " 5464,\n",
       " 5350,\n",
       " 5338,\n",
       " 5295,\n",
       " 5244,\n",
       " 5231,\n",
       " 5229,\n",
       " 5201,\n",
       " 5174,\n",
       " 5173,\n",
       " 5161,\n",
       " 5110,\n",
       " 5086,\n",
       " 5081,\n",
       " 5016,\n",
       " 4994,\n",
       " 4880,\n",
       " 4838,\n",
       " 4828,\n",
       " 4814,\n",
       " 4804,\n",
       " 4719,\n",
       " 4707,\n",
       " 4706,\n",
       " 4654,\n",
       " 4646,\n",
       " 4636,\n",
       " 4620,\n",
       " 4613,\n",
       " 4604,\n",
       " 4568,\n",
       " 4525,\n",
       " 4505,\n",
       " 4481,\n",
       " 4470,\n",
       " 4443,\n",
       " 4417,\n",
       " 4291,\n",
       " 4273,\n",
       " 4256,\n",
       " 4230,\n",
       " 4201,\n",
       " 4064,\n",
       " 4055,\n",
       " 4027,\n",
       " 4015,\n",
       " 3972,\n",
       " 3915,\n",
       " 3896,\n",
       " 3884,\n",
       " 3864,\n",
       " 3854,\n",
       " 3805,\n",
       " 3794,\n",
       " 3770,\n",
       " 3746,\n",
       " 3683,\n",
       " 3673,\n",
       " 3667,\n",
       " 3642,\n",
       " 3572,\n",
       " 3534,\n",
       " 3520,\n",
       " 3511,\n",
       " 3493,\n",
       " 3490,\n",
       " 3482,\n",
       " 3480,\n",
       " 3471,\n",
       " 3467,\n",
       " 3408,\n",
       " 3399,\n",
       " 3389,\n",
       " 3356,\n",
       " 3355,\n",
       " 3355,\n",
       " 3330,\n",
       " 3326,\n",
       " 3298,\n",
       " 3290,\n",
       " 3271,\n",
       " 3263,\n",
       " 3234,\n",
       " 3178,\n",
       " 3162,\n",
       " 3148,\n",
       " 3136,\n",
       " 3131,\n",
       " 3108,\n",
       " 3101,\n",
       " 3062,\n",
       " 3030,\n",
       " 3029,\n",
       " 3022,\n",
       " 2993,\n",
       " 2986,\n",
       " 2982,\n",
       " 2978,\n",
       " 2963,\n",
       " 2949,\n",
       " 2907,\n",
       " 2896,\n",
       " 2892,\n",
       " 2877,\n",
       " 2872,\n",
       " 2871,\n",
       " 2845,\n",
       " 2839,\n",
       " 2835,\n",
       " 2818,\n",
       " 2750,\n",
       " 2734,\n",
       " 2729,\n",
       " 2693,\n",
       " 2692,\n",
       " 2690,\n",
       " 2649,\n",
       " 2632,\n",
       " 2618,\n",
       " 2613,\n",
       " 2607,\n",
       " 2592,\n",
       " 2589,\n",
       " 2577,\n",
       " 2574,\n",
       " 2567,\n",
       " 2563,\n",
       " 2549,\n",
       " 2539,\n",
       " 2527,\n",
       " 2527,\n",
       " 2524,\n",
       " 2521,\n",
       " 2510,\n",
       " 2507,\n",
       " 2501,\n",
       " 2492,\n",
       " 2477,\n",
       " 2463,\n",
       " 2461,\n",
       " 2460,\n",
       " 2454,\n",
       " 2449,\n",
       " 2439,\n",
       " 2418,\n",
       " 2418,\n",
       " 2382,\n",
       " 2381,\n",
       " 2371,\n",
       " 2343,\n",
       " 2330,\n",
       " 2326,\n",
       " 2313,\n",
       " 2307,\n",
       " 2307,\n",
       " 2295,\n",
       " 2295,\n",
       " 2291,\n",
       " 2275,\n",
       " 2270,\n",
       " 2263,\n",
       " 2261,\n",
       " 2261,\n",
       " 2258,\n",
       " 2258,\n",
       " 2253,\n",
       " 2244,\n",
       " 2234,\n",
       " 2233,\n",
       " 2200,\n",
       " 2182,\n",
       " 2181,\n",
       " 2181,\n",
       " 2181,\n",
       " 2179,\n",
       " 2172,\n",
       " 2154,\n",
       " 2150,\n",
       " 2139,\n",
       " 2136,\n",
       " 2130,\n",
       " 2128,\n",
       " 2112,\n",
       " 2106,\n",
       " 2094,\n",
       " 2093,\n",
       " 2093,\n",
       " 2088,\n",
       " 2077,\n",
       " 2068,\n",
       " 2053,\n",
       " 2031,\n",
       " 2027,\n",
       " 2025,\n",
       " 2020,\n",
       " 2007,\n",
       " 2004,\n",
       " 2002,\n",
       " 1997,\n",
       " 1992,\n",
       " 1979,\n",
       " 1968,\n",
       " 1966,\n",
       " 1956,\n",
       " 1949,\n",
       " 1945,\n",
       " 1945,\n",
       " 1921,\n",
       " 1919,\n",
       " 1916,\n",
       " 1915,\n",
       " 1903,\n",
       " 1902,\n",
       " 1892,\n",
       " 1865,\n",
       " 1865,\n",
       " 1851,\n",
       " 1848,\n",
       " 1834,\n",
       " 1828,\n",
       " 1826,\n",
       " 1819,\n",
       " 1802,\n",
       " 1797,\n",
       " 1791,\n",
       " 1786,\n",
       " 1780,\n",
       " 1779,\n",
       " 1772,\n",
       " 1771,\n",
       " 1768,\n",
       " 1760,\n",
       " 1752,\n",
       " 1739,\n",
       " 1734,\n",
       " 1731,\n",
       " 1708,\n",
       " 1704,\n",
       " 1702,\n",
       " 1694,\n",
       " 1674,\n",
       " 1673,\n",
       " 1672,\n",
       " 1663,\n",
       " 1663,\n",
       " 1655,\n",
       " 1638,\n",
       " 1638,\n",
       " 1630,\n",
       " 1629,\n",
       " 1628,\n",
       " 1614,\n",
       " 1611,\n",
       " 1601,\n",
       " 1593,\n",
       " 1586,\n",
       " 1572,\n",
       " 1563,\n",
       " 1559,\n",
       " 1536,\n",
       " 1528,\n",
       " 1526,\n",
       " 1511,\n",
       " 1505,\n",
       " 1498,\n",
       " 1492,\n",
       " 1485,\n",
       " 1474,\n",
       " 1465,\n",
       " 1455,\n",
       " 1455,\n",
       " 1440,\n",
       " 1437,\n",
       " 1437,\n",
       " 1436,\n",
       " 1430,\n",
       " 1420,\n",
       " 1408,\n",
       " 1407,\n",
       " 1401,\n",
       " 1394,\n",
       " 1384,\n",
       " 1382,\n",
       " 1381,\n",
       " 1374,\n",
       " 1364,\n",
       " 1357,\n",
       " 1351,\n",
       " 1345,\n",
       " 1339,\n",
       " 1328,\n",
       " 1324,\n",
       " 1318,\n",
       " 1306,\n",
       " 1305,\n",
       " 1301,\n",
       " 1290,\n",
       " 1286,\n",
       " 1285,\n",
       " 1285,\n",
       " 1276,\n",
       " 1273,\n",
       " 1268,\n",
       " 1264,\n",
       " 1262,\n",
       " 1256,\n",
       " 1248,\n",
       " 1246,\n",
       " 1244,\n",
       " 1233,\n",
       " 1226,\n",
       " 1223,\n",
       " 1221,\n",
       " 1219,\n",
       " 1215,\n",
       " 1212,\n",
       " 1199,\n",
       " 1193,\n",
       " 1190,\n",
       " 1187,\n",
       " 1186,\n",
       " 1184,\n",
       " 1183,\n",
       " 1176,\n",
       " 1174,\n",
       " 1172,\n",
       " 1168,\n",
       " 1164,\n",
       " 1156,\n",
       " 1151,\n",
       " 1142,\n",
       " 1134,\n",
       " 1133,\n",
       " 1126,\n",
       " 1125,\n",
       " 1124,\n",
       " 1120,\n",
       " 1119,\n",
       " 1115,\n",
       " 1115,\n",
       " 1114,\n",
       " 1112,\n",
       " 1110,\n",
       " 1109,\n",
       " 1096,\n",
       " 1092,\n",
       " 1091,\n",
       " 1086,\n",
       " 1086,\n",
       " 1078,\n",
       " 1074,\n",
       " 1072,\n",
       " 1072,\n",
       " 1069,\n",
       " 1068,\n",
       " 1065,\n",
       " 1065,\n",
       " 1063,\n",
       " 1060,\n",
       " 1058,\n",
       " 1057,\n",
       " 1051,\n",
       " 1051,\n",
       " 1048,\n",
       " 1047,\n",
       " 1045,\n",
       " 1044,\n",
       " 1043,\n",
       " 1041,\n",
       " 1040,\n",
       " 1038,\n",
       " 1033,\n",
       " 1031,\n",
       " 1026,\n",
       " 1016,\n",
       " 1013,\n",
       " 1010,\n",
       " 1000,\n",
       " 1000,\n",
       " 996,\n",
       " 996,\n",
       " 995,\n",
       " 989,\n",
       " 987,\n",
       " 985,\n",
       " 984,\n",
       " 981,\n",
       " 980,\n",
       " 980,\n",
       " 980,\n",
       " 977,\n",
       " 977,\n",
       " 976,\n",
       " 974,\n",
       " 973,\n",
       " 972,\n",
       " 972,\n",
       " 962,\n",
       " 961,\n",
       " 959,\n",
       " 956,\n",
       " 956,\n",
       " 956,\n",
       " 951,\n",
       " 947,\n",
       " 945,\n",
       " 943,\n",
       " 934,\n",
       " 930,\n",
       " 929,\n",
       " 926,\n",
       " 925,\n",
       " 925,\n",
       " 925,\n",
       " 923,\n",
       " 921,\n",
       " 920,\n",
       " 920,\n",
       " 916,\n",
       " 911,\n",
       " 910,\n",
       " 901,\n",
       " 901,\n",
       " 894,\n",
       " 894,\n",
       " 891,\n",
       " 890,\n",
       " 889,\n",
       " 888,\n",
       " 881,\n",
       " 877,\n",
       " 877,\n",
       " 877,\n",
       " 875,\n",
       " 874,\n",
       " 874,\n",
       " 871,\n",
       " 865,\n",
       " 863,\n",
       " 862,\n",
       " 861,\n",
       " 859,\n",
       " 858,\n",
       " 856,\n",
       " 856,\n",
       " 854,\n",
       " 851,\n",
       " 850,\n",
       " 849,\n",
       " 849,\n",
       " 849,\n",
       " 845,\n",
       " 843,\n",
       " 841,\n",
       " 841,\n",
       " 839,\n",
       " 838,\n",
       " 838,\n",
       " 836,\n",
       " 833,\n",
       " 833,\n",
       " 831,\n",
       " 831,\n",
       " 827,\n",
       " 823,\n",
       " 822,\n",
       " 822,\n",
       " 818,\n",
       " 814,\n",
       " 814,\n",
       " 814,\n",
       " 812,\n",
       " 809,\n",
       " 809,\n",
       " 808,\n",
       " 807,\n",
       " 805,\n",
       " 805,\n",
       " 804,\n",
       " 803,\n",
       " 800,\n",
       " 798,\n",
       " 794,\n",
       " 794,\n",
       " 793,\n",
       " 790,\n",
       " 789,\n",
       " 788,\n",
       " 788,\n",
       " 788,\n",
       " 784,\n",
       " 784,\n",
       " 784,\n",
       " 783,\n",
       " 782,\n",
       " 781,\n",
       " 779,\n",
       " 777,\n",
       " 776,\n",
       " 775,\n",
       " 775,\n",
       " 772,\n",
       " 769,\n",
       " 768,\n",
       " 768,\n",
       " 766,\n",
       " 763,\n",
       " 759,\n",
       " 759,\n",
       " 758,\n",
       " 752,\n",
       " 751,\n",
       " 751,\n",
       " 751,\n",
       " 749,\n",
       " 745,\n",
       " 744,\n",
       " 739,\n",
       " 738,\n",
       " 738,\n",
       " 737,\n",
       " 735,\n",
       " 735,\n",
       " 734,\n",
       " 734,\n",
       " 734,\n",
       " 734,\n",
       " 733,\n",
       " 733,\n",
       " 731,\n",
       " 730,\n",
       " 729,\n",
       " 728,\n",
       " 728,\n",
       " 727,\n",
       " 725,\n",
       " 721,\n",
       " 721,\n",
       " 721,\n",
       " 721,\n",
       " 719,\n",
       " 718,\n",
       " 714,\n",
       " 711,\n",
       " 710,\n",
       " 710,\n",
       " 709,\n",
       " 709,\n",
       " 706,\n",
       " 704,\n",
       " 703,\n",
       " 701,\n",
       " 696,\n",
       " 696,\n",
       " 692,\n",
       " 692,\n",
       " 691,\n",
       " 691,\n",
       " 690,\n",
       " 689,\n",
       " 687,\n",
       " 686,\n",
       " 685,\n",
       " 685,\n",
       " 685,\n",
       " 685,\n",
       " 684,\n",
       " 683,\n",
       " 683,\n",
       " 682,\n",
       " 680,\n",
       " 679,\n",
       " 678,\n",
       " 678,\n",
       " 674,\n",
       " 673,\n",
       " 671,\n",
       " 671,\n",
       " 669,\n",
       " 668,\n",
       " 666,\n",
       " 666,\n",
       " 666,\n",
       " 664,\n",
       " 660,\n",
       " 659,\n",
       " 658,\n",
       " 657,\n",
       " 652,\n",
       " 649,\n",
       " 647,\n",
       " 645,\n",
       " 645,\n",
       " 644,\n",
       " 644,\n",
       " 643,\n",
       " 642,\n",
       " 640,\n",
       " 640,\n",
       " 638,\n",
       " 635,\n",
       " 634,\n",
       " 633,\n",
       " 632,\n",
       " 631,\n",
       " 629,\n",
       " 628,\n",
       " 628,\n",
       " 627,\n",
       " 627,\n",
       " 627,\n",
       " 626,\n",
       " 626,\n",
       " 625,\n",
       " 625,\n",
       " 624,\n",
       " 622,\n",
       " 621,\n",
       " 620,\n",
       " 619,\n",
       " 618,\n",
       " 617,\n",
       " 616,\n",
       " 615,\n",
       " 615,\n",
       " 615,\n",
       " 614,\n",
       " 614,\n",
       " 613,\n",
       " 611,\n",
       " 611,\n",
       " 611,\n",
       " 610,\n",
       " 610,\n",
       " 610,\n",
       " 610,\n",
       " 610,\n",
       " 609,\n",
       " 609,\n",
       " 608,\n",
       " 607,\n",
       " 607,\n",
       " 606,\n",
       " 606,\n",
       " 606,\n",
       " 606,\n",
       " 605,\n",
       " 604,\n",
       " 603,\n",
       " 598,\n",
       " 598,\n",
       " 598,\n",
       " 596,\n",
       " 595,\n",
       " 589,\n",
       " 588,\n",
       " 588,\n",
       " 588,\n",
       " 587,\n",
       " 585,\n",
       " 584,\n",
       " 582,\n",
       " 579,\n",
       " 579,\n",
       " 578,\n",
       " 578,\n",
       " 577,\n",
       " 577,\n",
       " 576,\n",
       " 576,\n",
       " 575,\n",
       " 574,\n",
       " 573,\n",
       " 573,\n",
       " 571,\n",
       " 570,\n",
       " 568,\n",
       " 568,\n",
       " 568,\n",
       " 566,\n",
       " 565,\n",
       " 563,\n",
       " 560,\n",
       " 560,\n",
       " 560,\n",
       " 558,\n",
       " 558,\n",
       " 557,\n",
       " 556,\n",
       " 555,\n",
       " 555,\n",
       " 555,\n",
       " 554,\n",
       " 554,\n",
       " 554,\n",
       " 550,\n",
       " 549,\n",
       " 549,\n",
       " 549,\n",
       " 548,\n",
       " 547,\n",
       " 543,\n",
       " 543,\n",
       " 543,\n",
       " 543,\n",
       " 540,\n",
       " 539,\n",
       " 538,\n",
       " 537,\n",
       " 536,\n",
       " 535,\n",
       " 535,\n",
       " 535,\n",
       " 535,\n",
       " 534,\n",
       " 533,\n",
       " 531,\n",
       " 529,\n",
       " 528,\n",
       " 527,\n",
       " 527,\n",
       " 527,\n",
       " 527,\n",
       " 526,\n",
       " 525,\n",
       " 524,\n",
       " 524,\n",
       " 524,\n",
       " 522,\n",
       " 520,\n",
       " 519,\n",
       " 518,\n",
       " 518,\n",
       " 517,\n",
       " 515,\n",
       " 515,\n",
       " 513,\n",
       " 512,\n",
       " 512,\n",
       " 512,\n",
       " 510,\n",
       " 510,\n",
       " 504,\n",
       " 503,\n",
       " 502,\n",
       " 501,\n",
       " 500,\n",
       " 500,\n",
       " 500,\n",
       " 499,\n",
       " 495,\n",
       " 491,\n",
       " 491,\n",
       " 490,\n",
       " 490,\n",
       " 489,\n",
       " 489,\n",
       " 489,\n",
       " 485,\n",
       " 485,\n",
       " 483,\n",
       " 483,\n",
       " 482,\n",
       " 481,\n",
       " 478,\n",
       " 477,\n",
       " 477,\n",
       " 477,\n",
       " 476,\n",
       " 475,\n",
       " 474,\n",
       " 474,\n",
       " 473,\n",
       " 472,\n",
       " 471,\n",
       " 470,\n",
       " 469,\n",
       " 468,\n",
       " 468,\n",
       " 468,\n",
       " 467,\n",
       " 467,\n",
       " 465,\n",
       " 464,\n",
       " 461,\n",
       " 461,\n",
       " 460,\n",
       " 460,\n",
       " 456,\n",
       " 456,\n",
       " 455,\n",
       " 454,\n",
       " 454,\n",
       " 454,\n",
       " 453,\n",
       " 453,\n",
       " 452,\n",
       " 450,\n",
       " 450,\n",
       " 449,\n",
       " 449,\n",
       " 449,\n",
       " 448,\n",
       " 447,\n",
       " 446,\n",
       " 446,\n",
       " 445,\n",
       " 445,\n",
       " 444,\n",
       " 444,\n",
       " 443,\n",
       " 442,\n",
       " 442,\n",
       " 441,\n",
       " 441,\n",
       " 441,\n",
       " 441,\n",
       " 441,\n",
       " 440,\n",
       " 440,\n",
       " 439,\n",
       " 438,\n",
       " 437,\n",
       " 436,\n",
       " 436,\n",
       " 435,\n",
       " 434,\n",
       " 432,\n",
       " 432,\n",
       " 431,\n",
       " 430,\n",
       " 430,\n",
       " 429,\n",
       " 428,\n",
       " 427,\n",
       " 426,\n",
       " 426,\n",
       " 425,\n",
       " 425,\n",
       " 423,\n",
       " 421,\n",
       " 421,\n",
       " 421,\n",
       " 421,\n",
       " 420,\n",
       " 419,\n",
       " 418,\n",
       " 418,\n",
       " 418,\n",
       " 417,\n",
       " 417,\n",
       " 416,\n",
       " 414,\n",
       " 413,\n",
       " 412,\n",
       " 412,\n",
       " 411,\n",
       " 411,\n",
       " 410,\n",
       " 409,\n",
       " 408,\n",
       " 408,\n",
       " 406,\n",
       " 406,\n",
       " 406,\n",
       " 406,\n",
       " 404,\n",
       " 404,\n",
       " 403,\n",
       " 403,\n",
       " 403,\n",
       " 402,\n",
       " 401,\n",
       " 401,\n",
       " 401,\n",
       " 400,\n",
       " 399,\n",
       " 398,\n",
       " 398,\n",
       " 397,\n",
       " 397,\n",
       " 397,\n",
       " 396,\n",
       " 396,\n",
       " 396,\n",
       " 395,\n",
       " 395,\n",
       " 394,\n",
       " 394,\n",
       " 394,\n",
       " 394,\n",
       " 394,\n",
       " 393,\n",
       " 393,\n",
       " 393,\n",
       " 392,\n",
       " 391,\n",
       " 390,\n",
       " 390,\n",
       " 389,\n",
       " 389,\n",
       " 389,\n",
       " 389,\n",
       " 389,\n",
       " 389,\n",
       " 388,\n",
       " 388,\n",
       " 388,\n",
       " 387,\n",
       " 386,\n",
       " 386,\n",
       " 386,\n",
       " 386,\n",
       " 386,\n",
       " 384,\n",
       " 384,\n",
       " 384,\n",
       " 383,\n",
       " 383,\n",
       " 383,\n",
       " ...]"
      ]
     },
     "execution_count": 34,
     "metadata": {},
     "output_type": "execute_result"
    }
   ],
   "source": [
    "sorted(word_counts, reverse=True)"
   ]
  },
  {
   "cell_type": "code",
   "execution_count": null,
   "metadata": {},
   "outputs": [],
   "source": []
  },
  {
   "cell_type": "code",
   "execution_count": null,
   "metadata": {},
   "outputs": [],
   "source": []
  },
  {
   "cell_type": "code",
   "execution_count": null,
   "metadata": {},
   "outputs": [],
   "source": []
  },
  {
   "cell_type": "code",
   "execution_count": null,
   "metadata": {},
   "outputs": [],
   "source": []
  },
  {
   "cell_type": "code",
   "execution_count": null,
   "metadata": {},
   "outputs": [],
   "source": []
  },
  {
   "cell_type": "markdown",
   "metadata": {},
   "source": [
    "### Naive Bayes"
   ]
  },
  {
   "cell_type": "code",
   "execution_count": 35,
   "metadata": {},
   "outputs": [],
   "source": [
    "from sklearn.naive_bayes import MultinomialNB"
   ]
  },
  {
   "cell_type": "code",
   "execution_count": 36,
   "metadata": {},
   "outputs": [],
   "source": [
    "nb_model = MultinomialNB()\n",
    "nb_model.fit(X_train_bow, y_train)\n",
    "y_pred = nb_model.predict_proba(X_test_bow)[:, 1]"
   ]
  },
  {
   "cell_type": "code",
   "execution_count": 37,
   "metadata": {},
   "outputs": [],
   "source": [
    "from sklearn.metrics import roc_auc_score, roc_curve"
   ]
  },
  {
   "cell_type": "code",
   "execution_count": 38,
   "metadata": {},
   "outputs": [
    {
     "name": "stdout",
     "output_type": "stream",
     "text": [
      "0.8733136594230104\n"
     ]
    },
    {
     "data": {
      "image/png": "[encoded data removed]",
      "text/plain": [
       "<Figure size 432x288 with 1 Axes>"
      ]
     },
     "metadata": {
      "needs_background": "light"
     },
     "output_type": "display_data"
    }
   ],
   "source": [
    "plt.plot(*roc_curve(y_test, y_pred)[:2], label='test roc_auc, BOW model')\n",
    "\n",
    "plt.plot([0, 1], [0, 1], '--', color='black',)\n",
    "plt.grid()\n",
    "plt.legend()\n",
    "\n",
    "print(roc_auc_score(y_test, y_pred))"
   ]
  },
  {
   "cell_type": "code",
   "execution_count": 39,
   "metadata": {},
   "outputs": [],
   "source": [
    "def plot_models(names, models, X_train, X_test, y_train, y_test):\n",
    "    \"\"\"\n",
    "    gets lists of names, models, lists of train and test samples, train and test answers\n",
    "    plots ROC curves\n",
    "    \"\"\"\n",
    "    \n",
    "    for name, model, X in zip(names, models, X_train):\n",
    "        proba = model.predict_proba(X)[:, 1]\n",
    "        auc = roc_auc_score(y_train, proba)\n",
    "        plt.plot(*roc_curve(y_train, proba)[:2], label='train %s AUC=%.4f' % (name, auc))\n",
    "    \n",
    "    for name, model, X in zip(names, models, X_test):\n",
    "        proba = model.predict_proba(X)[:, 1]\n",
    "        auc = roc_auc_score(y_test, proba)\n",
    "        plt.plot(*roc_curve(y_test, proba)[:2], label='test %s AUC=%.4f' % (name, auc))\n",
    "        \n",
    "        \n",
    "    plt.plot([0, 1], [0, 1], '--', color='black',)\n",
    "    plt.legend(fontsize='large')\n",
    "    plt.grid()\n",
    "    plt.show()"
   ]
  },
  {
   "cell_type": "code",
   "execution_count": 40,
   "metadata": {},
   "outputs": [
    {
     "data": {
      "image/png": "[encoded data removed]",
      "text/plain": [
       "<Figure size 432x288 with 1 Axes>"
      ]
     },
     "metadata": {
      "needs_background": "light"
     },
     "output_type": "display_data"
    }
   ],
   "source": [
    "plot_models(['nb'], [nb_model], [X_train_bow], [X_test_bow], y_train, y_test)"
   ]
  },
  {
   "cell_type": "markdown",
   "metadata": {},
   "source": [
    "### Логистическая регрессия: сравним качество"
   ]
  },
  {
   "cell_type": "code",
   "execution_count": 41,
   "metadata": {},
   "outputs": [
    {
     "name": "stderr",
     "output_type": "stream",
     "text": [
      "/usr/local/lib/python3.7/site-packages/sklearn/linear_model/logistic.py:432: FutureWarning: Default solver will be changed to 'lbfgs' in 0.22. Specify a solver to silence this warning.\n",
      "  FutureWarning)\n"
     ]
    }
   ],
   "source": [
    "from sklearn.linear_model import LogisticRegression\n",
    "\n",
    "logistic_model = LogisticRegression(C=0.1)\n",
    "logistic_model.fit(X_train_bow, y_train)\n",
    "y_pred = logistic_model.predict_proba(X_test_bow)[:, 1]"
   ]
  },
  {
   "cell_type": "code",
   "execution_count": 42,
   "metadata": {},
   "outputs": [
    {
     "data": {
      "text/plain": [
       "'sample'"
      ]
     },
     "execution_count": 42,
     "metadata": {},
     "output_type": "execute_result"
    }
   ],
   "source": [
    "vocabulary[np.argmax(logistic_model.coef_, )]"
   ]
  },
  {
   "cell_type": "code",
   "execution_count": 43,
   "metadata": {},
   "outputs": [],
   "source": [
    "threshold = sorted(logistic_model.coef_[0], reverse=True)[100]"
   ]
  },
  {
   "cell_type": "code",
   "execution_count": 44,
   "metadata": {},
   "outputs": [],
   "source": [
    "idx = []\n",
    "for i in range(len(logistic_model.coef_[0])):\n",
    "    if logistic_model.coef_[0][i] > threshold:\n",
    "        idx.append(i)\n",
    "idx = np.array(idx)"
   ]
  },
  {
   "cell_type": "code",
   "execution_count": 45,
   "metadata": {},
   "outputs": [
    {
     "data": {
      "text/plain": [
       "array(['ageworthy', 'amazing', 'amazingly', 'appetizing', 'barolo',\n",
       "       'beautiful', 'beautifully', 'beauty', 'blackened', 'botrytis',\n",
       "       'brilliant', 'brooding', 'brunello', 'cardamom', 'celebration',\n",
       "       'cellar', 'cellaring', 'champagne', 'classy', 'compelling',\n",
       "       'complex', 'conference', 'cushioned', 'dazzling', 'decade',\n",
       "       'delicious', 'deliciously', 'delight', 'detail', 'dramatic',\n",
       "       'electric', 'elegant', 'energizing', 'excellent', 'exceptional',\n",
       "       'exquisite', 'exquisitely', 'fascinating', 'focused', 'furmint',\n",
       "       'glide', 'gorgeous', 'gorgeously', 'graceful', 'gracefully',\n",
       "       'harmonious', 'huckleberry', 'immense', 'impeccable', 'impress',\n",
       "       'impressive', 'impressively', 'least', 'length', 'lengthy', 'lick',\n",
       "       'long', 'lovely', 'lush', 'lushness', 'luxurious', 'memorable',\n",
       "       'muscular', 'notion', 'nuanced', 'opulent', 'outstanding',\n",
       "       'passito', 'potent', 'powerful', 'precise', 'precision', 'purity',\n",
       "       'refined', 'remarkably', 'resist', 'sample', 'seamlessly',\n",
       "       'seductive', 'sexy', 'slender', 'slowly', 'sophisticated',\n",
       "       'spätlese', 'study', 'stunning', 'success', 'succulence',\n",
       "       'sumptuous', 'superb', 'superior', 'supportive', 'tension',\n",
       "       'terrific', 'textural', 'truffle', 'velvety', 'wonderful',\n",
       "       'wonderfully', 'youth'], dtype='<U18')"
      ]
     },
     "execution_count": 45,
     "metadata": {},
     "output_type": "execute_result"
    }
   ],
   "source": [
    "np.array(vocabulary)[idx]"
   ]
  },
  {
   "cell_type": "code",
   "execution_count": 46,
   "metadata": {},
   "outputs": [
    {
     "data": {
      "image/png": "[encoded data removed]",
      "text/plain": [
       "<Figure size 432x288 with 1 Axes>"
      ]
     },
     "metadata": {
      "needs_background": "light"
     },
     "output_type": "display_data"
    }
   ],
   "source": [
    "plot_models(['nb', 'logistic regression'], [nb_model, logistic_model], \n",
    "            [X_train_bow] * 2, [X_test_bow] * 2, \n",
    "            y_train, y_test)"
   ]
  },
  {
   "cell_type": "code",
   "execution_count": null,
   "metadata": {},
   "outputs": [],
   "source": []
  },
  {
   "cell_type": "code",
   "execution_count": null,
   "metadata": {},
   "outputs": [],
   "source": []
  },
  {
   "cell_type": "code",
   "execution_count": null,
   "metadata": {},
   "outputs": [],
   "source": []
  },
  {
   "cell_type": "code",
   "execution_count": null,
   "metadata": {},
   "outputs": [],
   "source": []
  },
  {
   "cell_type": "code",
   "execution_count": null,
   "metadata": {},
   "outputs": [],
   "source": []
  },
  {
   "cell_type": "code",
   "execution_count": null,
   "metadata": {},
   "outputs": [],
   "source": []
  },
  {
   "cell_type": "code",
   "execution_count": null,
   "metadata": {},
   "outputs": [],
   "source": []
  },
  {
   "cell_type": "code",
   "execution_count": null,
   "metadata": {},
   "outputs": [],
   "source": []
  },
  {
   "cell_type": "markdown",
   "metadata": {},
   "source": [
    "### Добавление tf-idf фичей"
   ]
  },
  {
   "cell_type": "code",
   "execution_count": 47,
   "metadata": {},
   "outputs": [],
   "source": [
    "from sklearn.feature_extraction.text import TfidfVectorizer"
   ]
  },
  {
   "cell_type": "code",
   "execution_count": 49,
   "metadata": {},
   "outputs": [
    {
     "name": "stdout",
     "output_type": "stream",
     "text": [
      "Размер словаря: 7320\n"
     ]
    }
   ],
   "source": [
    "tf_idf_vectorizer = TfidfVectorizer(stop_words=stop_words, min_df=10).fit(X_train)\n",
    "vocabulary = tf_idf_vectorizer.get_feature_names()\n",
    "print('Размер словаря: %d'%len(vocabulary))\n",
    "\n",
    "X_train_tf_idf = tf_idf_vectorizer.transform(X_train)\n",
    "X_test_tf_idf = tf_idf_vectorizer.transform(X_test)"
   ]
  },
  {
   "cell_type": "code",
   "execution_count": 50,
   "metadata": {},
   "outputs": [
    {
     "name": "stderr",
     "output_type": "stream",
     "text": [
      "/usr/local/lib/python3.7/site-packages/sklearn/linear_model/logistic.py:432: FutureWarning: Default solver will be changed to 'lbfgs' in 0.22. Specify a solver to silence this warning.\n",
      "  FutureWarning)\n"
     ]
    },
    {
     "data": {
      "text/plain": [
       "LogisticRegression(C=1.0, class_weight=None, dual=False, fit_intercept=True,\n",
       "                   intercept_scaling=1, l1_ratio=None, max_iter=100,\n",
       "                   multi_class='warn', n_jobs=None, penalty='l2',\n",
       "                   random_state=None, solver='warn', tol=0.0001, verbose=0,\n",
       "                   warm_start=False)"
      ]
     },
     "execution_count": 50,
     "metadata": {},
     "output_type": "execute_result"
    }
   ],
   "source": [
    "tf_idf_logistic_model = LogisticRegression()\n",
    "\n",
    "tf_idf_logistic_model.fit(X_train_tf_idf, y_train)"
   ]
  },
  {
   "cell_type": "code",
   "execution_count": 51,
   "metadata": {},
   "outputs": [
    {
     "data": {
      "image/png": "[encoded data removed]",
      "text/plain": [
       "<Figure size 432x288 with 1 Axes>"
      ]
     },
     "metadata": {
      "needs_background": "light"
     },
     "output_type": "display_data"
    }
   ],
   "source": [
    "plot_models(['bow', 'tf-idf'], [logistic_model, tf_idf_logistic_model], \n",
    "            [X_train_bow, X_train_tf_idf], [X_test_bow, X_test_tf_idf] * 2, \n",
    "            y_train, y_test)"
   ]
  },
  {
   "cell_type": "markdown",
   "metadata": {},
   "source": [
    "### Кодирование предложений эмбеддингами слов"
   ]
  },
  {
   "cell_type": "code",
   "execution_count": 53,
   "metadata": {},
   "outputs": [
    {
     "name": "stdout",
     "output_type": "stream",
     "text": [
      "Collecting gensim\n",
      "\u001b[?25l  Downloading https://files.pythonhosted.org/packages/c8/3a/32a1edf4f335eba0873021a7ddb3230f05dedd2b5450960118b402ca0771/gensim-3.8.0-cp37-cp37m-macosx_10_6_intel.macosx_10_9_intel.macosx_10_9_x86_64.macosx_10_10_intel.macosx_10_10_x86_64.whl (24.7MB)\n",
      "\u001b[K     |████████████████████████████████| 24.7MB 749kB/s eta 0:00:01\n",
      "\u001b[?25hRequirement already satisfied: numpy>=1.11.3 in /usr/local/lib/python3.7/site-packages (from gensim) (1.16.3)\n",
      "Collecting smart-open>=1.7.0 (from gensim)\n",
      "\u001b[?25l  Downloading https://files.pythonhosted.org/packages/37/c0/25d19badc495428dec6a4bf7782de617ee0246a9211af75b302a2681dea7/smart_open-1.8.4.tar.gz (63kB)\n",
      "\u001b[K     |████████████████████████████████| 71kB 1.3MB/s eta 0:00:011\n",
      "\u001b[?25hRequirement already satisfied: six>=1.5.0 in /usr/local/lib/python3.7/site-packages (from gensim) (1.12.0)\n",
      "Requirement already satisfied: scipy>=0.18.1 in /usr/local/lib/python3.7/site-packages (from gensim) (1.2.1)\n",
      "Collecting boto>=2.32 (from smart-open>=1.7.0->gensim)\n",
      "\u001b[?25l  Downloading https://files.pythonhosted.org/packages/23/10/c0b78c27298029e4454a472a1919bde20cb182dab1662cec7f2ca1dcc523/boto-2.49.0-py2.py3-none-any.whl (1.4MB)\n",
      "\u001b[K     |████████████████████████████████| 1.4MB 953kB/s eta 0:00:01\n",
      "\u001b[?25hRequirement already satisfied: requests in /usr/local/lib/python3.7/site-packages (from smart-open>=1.7.0->gensim) (2.22.0)\n",
      "Collecting boto3 (from smart-open>=1.7.0->gensim)\n",
      "\u001b[?25l  Downloading https://files.pythonhosted.org/packages/0e/80/193be5d386275cef24fc1c8e6127be557e0db978b4cf96dce57727236e6f/boto3-1.9.208-py2.py3-none-any.whl (128kB)\n",
      "\u001b[K     |████████████████████████████████| 133kB 1.2MB/s eta 0:00:01\n",
      "\u001b[?25hRequirement already satisfied: urllib3!=1.25.0,!=1.25.1,<1.26,>=1.21.1 in /usr/local/lib/python3.7/site-packages (from requests->smart-open>=1.7.0->gensim) (1.25.3)\n",
      "Requirement already satisfied: chardet<3.1.0,>=3.0.2 in /usr/local/lib/python3.7/site-packages (from requests->smart-open>=1.7.0->gensim) (3.0.4)\n",
      "Requirement already satisfied: certifi>=2017.4.17 in /usr/local/lib/python3.7/site-packages (from requests->smart-open>=1.7.0->gensim) (2019.6.16)\n",
      "Requirement already satisfied: idna<2.9,>=2.5 in /usr/local/lib/python3.7/site-packages (from requests->smart-open>=1.7.0->gensim) (2.8)\n",
      "Collecting botocore<1.13.0,>=1.12.208 (from boto3->smart-open>=1.7.0->gensim)\n",
      "\u001b[?25l  Downloading https://files.pythonhosted.org/packages/e9/49/02ca4145a6ea491028093567077ad90a1e5cec86d3d7b0d01b58b643567f/botocore-1.12.208-py2.py3-none-any.whl (5.7MB)\n",
      "\u001b[K     |████████████████████████████████| 5.7MB 800kB/s eta 0:00:01\n",
      "\u001b[?25hCollecting jmespath<1.0.0,>=0.7.1 (from boto3->smart-open>=1.7.0->gensim)\n",
      "  Downloading https://files.pythonhosted.org/packages/83/94/7179c3832a6d45b266ddb2aac329e101367fbdb11f425f13771d27f225bb/jmespath-0.9.4-py2.py3-none-any.whl\n",
      "Collecting s3transfer<0.3.0,>=0.2.0 (from boto3->smart-open>=1.7.0->gensim)\n",
      "\u001b[?25l  Downloading https://files.pythonhosted.org/packages/16/8a/1fc3dba0c4923c2a76e1ff0d52b305c44606da63f718d14d3231e21c51b0/s3transfer-0.2.1-py2.py3-none-any.whl (70kB)\n",
      "\u001b[K     |████████████████████████████████| 71kB 1.6MB/s eta 0:00:011\n",
      "\u001b[?25hCollecting docutils<0.15,>=0.10 (from botocore<1.13.0,>=1.12.208->boto3->smart-open>=1.7.0->gensim)\n",
      "\u001b[?25l  Downloading https://files.pythonhosted.org/packages/36/fa/08e9e6e0e3cbd1d362c3bbee8d01d0aedb2155c4ac112b19ef3cae8eed8d/docutils-0.14-py3-none-any.whl (543kB)\n",
      "\u001b[K     |████████████████████████████████| 552kB 1.2MB/s eta 0:00:01\n",
      "\u001b[?25hRequirement already satisfied: python-dateutil<3.0.0,>=2.1; python_version >= \"2.7\" in /usr/local/lib/python3.7/site-packages (from botocore<1.13.0,>=1.12.208->boto3->smart-open>=1.7.0->gensim) (2.8.0)\n",
      "Building wheels for collected packages: smart-open\n",
      "  Building wheel for smart-open (setup.py) ... \u001b[?25ldone\n",
      "\u001b[?25h  Created wheel for smart-open: filename=smart_open-1.8.4-cp37-none-any.whl size=68202 sha256=7e98a9c88836c95139713c95f554678dcbce0d6789a4fa5ceef51121b263b7dd\n",
      "  Stored in directory: /Users/nikita/Library/Caches/pip/wheels/5f/ea/fb/5b1a947b369724063b2617011f1540c44eb00e28c3d2ca8692\n",
      "Successfully built smart-open\n",
      "Installing collected packages: boto, docutils, jmespath, botocore, s3transfer, boto3, smart-open, gensim\n",
      "Successfully installed boto-2.49.0 boto3-1.9.208 botocore-1.12.208 docutils-0.14 gensim-3.8.0 jmespath-0.9.4 s3transfer-0.2.1 smart-open-1.8.4\n",
      "\u001b[33mWARNING: You are using pip version 19.2.1, however version 19.2.2 is available.\n",
      "You should consider upgrading via the 'pip install --upgrade pip' command.\u001b[0m\n"
     ]
    }
   ],
   "source": [
    "!pip3 install gensim"
   ]
  },
  {
   "cell_type": "code",
   "execution_count": 54,
   "metadata": {},
   "outputs": [
    {
     "name": "stdout",
     "output_type": "stream",
     "text": [
      "[==================================================] 100.0% 128.1/128.1MB downloaded\n"
     ]
    }
   ],
   "source": [
    "import gensim.downloader \n",
    "embeddings = gensim.downloader.load(\"glove-wiki-gigaword-100\")"
   ]
  },
  {
   "cell_type": "code",
   "execution_count": 55,
   "metadata": {},
   "outputs": [],
   "source": [
    "def vectorize_sum(comment):\n",
    "    \"\"\"\n",
    "    implement a function that converts preprocessed comment to a sum of token vectors\n",
    "    \"\"\"\n",
    "    embedding_dim = embeddings.wv.vectors.shape[1]\n",
    "    \n",
    "    comment_vectors = np.stack([embeddings.wv.word_vec(word) if word in embeddings.wv.vocab \n",
    "                                else np.zeros(embeddings.wv.vectors.shape[1])\n",
    "                       for word in comment.split()])\n",
    "    \n",
    "    features = np.sum(comment_vectors, axis=0)\n",
    "    return features"
   ]
  },
  {
   "cell_type": "code",
   "execution_count": 56,
   "metadata": {},
   "outputs": [
    {
     "name": "stderr",
     "output_type": "stream",
     "text": [
      "/usr/local/lib/python3.7/site-packages/ipykernel_launcher.py:5: DeprecationWarning: Call to deprecated `wv` (Attribute will be removed in 4.0.0, use self instead).\n",
      "  \"\"\"\n",
      "/usr/local/lib/python3.7/site-packages/ipykernel_launcher.py:9: DeprecationWarning: Call to deprecated `wv` (Attribute will be removed in 4.0.0, use self instead).\n",
      "  if __name__ == '__main__':\n"
     ]
    }
   ],
   "source": [
    "X_train_wv = np.stack([vectorize_sum(text) for text in X_train])\n",
    "X_test_wv = np.stack([vectorize_sum(text) for text in X_test])"
   ]
  },
  {
   "cell_type": "code",
   "execution_count": 57,
   "metadata": {},
   "outputs": [
    {
     "name": "stderr",
     "output_type": "stream",
     "text": [
      "/usr/local/lib/python3.7/site-packages/sklearn/linear_model/logistic.py:432: FutureWarning: Default solver will be changed to 'lbfgs' in 0.22. Specify a solver to silence this warning.\n",
      "  FutureWarning)\n"
     ]
    }
   ],
   "source": [
    "wv_model = LogisticRegression().fit(X_train_wv, y_train)"
   ]
  },
  {
   "cell_type": "code",
   "execution_count": 58,
   "metadata": {},
   "outputs": [
    {
     "data": {
      "image/png": "[encoded data removed]",
      "text/plain": [
       "<Figure size 432x288 with 1 Axes>"
      ]
     },
     "metadata": {
      "needs_background": "light"
     },
     "output_type": "display_data"
    }
   ],
   "source": [
    "plot_models(['bow', 'vw'], [logistic_model, wv_model], \n",
    "            [X_train_bow, X_train_wv], [X_test_bow, X_test_wv] * 2, \n",
    "            y_train, y_test)"
   ]
  },
  {
   "cell_type": "code",
   "execution_count": null,
   "metadata": {},
   "outputs": [],
   "source": []
  }
 ],
 "metadata": {
  "kernelspec": {
   "display_name": "Python 3",
   "language": "python",
   "name": "python3"
  },
  "language_info": {
   "codemirror_mode": {
    "name": "ipython",
    "version": 3
   },
   "file_extension": ".py",
   "mimetype": "text/x-python",
   "name": "python",
   "nbconvert_exporter": "python",
   "pygments_lexer": "ipython3",
   "version": "3.7.3"
  }
 },
 "nbformat": 4,
 "nbformat_minor": 2
}
